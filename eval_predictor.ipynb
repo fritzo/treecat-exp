{
 "cells": [
  {
   "cell_type": "markdown",
   "metadata": {},
   "source": [
    "# Evaluation of a predictor"
   ]
  },
  {
   "cell_type": "code",
   "execution_count": null,
   "metadata": {},
   "outputs": [],
   "source": [
    "from six.moves import cPickle as pickle\n",
    "from matplotlib import pyplot\n",
    "import numpy as np\n",
    "import torch\n",
    "%matplotlib inline\n",
    "%config InlineBackend.figure_format = 'svg'\n",
    "%config InlineBackend.rc = {'figure.facecolor': (1, 1, 1, 1)}"
   ]
  },
  {
   "cell_type": "code",
   "execution_count": null,
   "metadata": {},
   "outputs": [],
   "source": [
    "DATASET = 'census'\n",
    "with open('results/test/{}.eval_predictor.pkl'.format(DATASET), 'rb') as f:\n",
    "    evaluation = pickle.load(f)\n",
    "print(list(evaluation.keys()))\n",
    "args = evaluation['args']\n",
    "scores = evaluation['scores']"
   ]
  },
  {
   "cell_type": "code",
   "execution_count": null,
   "metadata": {},
   "outputs": [],
   "source": [
    "pyplot.figure(figsize=(9, 6))\n",
    "keys = list(sorted(scores.keys(), reverse=True))\n",
    "X = list(range(1, 1 + len(scores)))\n",
    "Y = [np.mean(scores[key]) for key in keys]\n",
    "pyplot.plot(X, Y, 'k--')\n",
    "pyplot.violinplot([scores[key] for key in keys])\n",
    "pyplot.xticks(X, labels=[\"{:0.2g}\".format(1 - key) for key in keys])\n",
    "pyplot.title(\"Accuracy of imputing {} data (higher is better)\".format(args.dataset))\n",
    "pyplot.xlabel(\"Missing Probability\")\n",
    "pyplot.ylabel(\"Score  (probability of correct label)\")\n",
    "pyplot.tight_layout()"
   ]
  },
  {
   "cell_type": "code",
   "execution_count": null,
   "metadata": {},
   "outputs": [],
   "source": []
  }
 ],
 "metadata": {
  "kernelspec": {
   "display_name": "Python 3",
   "language": "python",
   "name": "python3"
  },
  "language_info": {
   "codemirror_mode": {
    "name": "ipython",
    "version": 3
   },
   "file_extension": ".py",
   "mimetype": "text/x-python",
   "name": "python",
   "nbconvert_exporter": "python",
   "pygments_lexer": "ipython3",
   "version": "3.7.2"
  }
 },
 "nbformat": 4,
 "nbformat_minor": 2
}
