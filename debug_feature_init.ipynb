{
 "cells": [
  {
   "cell_type": "markdown",
   "metadata": {},
   "source": [
    "# Debugging Feature Initialization"
   ]
  },
  {
   "cell_type": "code",
   "execution_count": null,
   "metadata": {},
   "outputs": [],
   "source": [
    "import numpy as np\n",
    "import torch\n",
    "\n",
    "import pyro\n",
    "import pyro.poutine as poutine\n",
    "from pyro.contrib.tabular import TreeCat\n",
    "from pyro.optim import Adam\n",
    "from treecat_exp.preprocess import load_data, partition_data\n",
    "from treecat_exp.util import TRAIN\n",
    "\n",
    "np.set_printoptions(precision=4)\n",
    "pyro.set_rng_seed(1)\n",
    "pyro.get_param_store().clear()\n",
    "pyro.enable_validation(True)\n",
    "\n",
    "from matplotlib import pyplot\n",
    "%matplotlib inline\n",
    "%config InlineBackend.rc = {'figure.facecolor': (1, 1, 1, 1)}\n",
    "# %config InlineBackend.figure_format = 'svg'"
   ]
  },
  {
   "cell_type": "code",
   "execution_count": null,
   "metadata": {},
   "outputs": [],
   "source": [
    "args = type(\"Args\", (), {})\n",
    "args.dataset = \"molecules\"\n",
    "args.max_num_rows = 9999999999\n",
    "args.capacity = 8\n",
    "args.init_size = 100000"
   ]
  },
  {
   "cell_type": "markdown",
   "metadata": {},
   "source": [
    "Load data."
   ]
  },
  {
   "cell_type": "code",
   "execution_count": null,
   "metadata": {},
   "outputs": [],
   "source": [
    "features, data, mask = load_data(args)\n",
    "num_rows = len(data[0])\n",
    "num_cells = num_rows * len(features)\n",
    "print(\"loaded {} rows x {} features = {} cells\".format(\n",
    "      num_rows, len(features), num_cells))\n",
    "print(\"\\n\".join([\"Features:\"] + [str(f) for f in features]))"
   ]
  },
  {
   "cell_type": "markdown",
   "metadata": {},
   "source": [
    "Initialize the model."
   ]
  },
  {
   "cell_type": "code",
   "execution_count": null,
   "metadata": {
    "scrolled": true
   },
   "outputs": [],
   "source": [
    "pyro.get_param_store().clear()\n",
    "model = TreeCat(features, args.capacity)\n",
    "trainer = model.trainer(\"map\", optim=Adam({}))\n",
    "for batch_data, batch_mask in partition_data(data, mask, args.init_size):\n",
    "    break\n",
    "trainer.init(batch_data, batch_mask)\n",
    "model.guide(batch_data, batch_mask)  # initializes groups\n",
    "print(\"\\n\".join(\"{} = {}\".format(key, value.data.cpu().numpy())\n",
    "                for key, value in sorted(pyro.get_param_store().items())))"
   ]
  },
  {
   "cell_type": "code",
   "execution_count": null,
   "metadata": {
    "scrolled": false
   },
   "outputs": [],
   "source": [
    "@torch.no_grad()\n",
    "def plot_feature(name):\n",
    "    (f, col), = [(f, col) for f, col in zip(features, batch_data) if f.name == name]\n",
    "    guide_trace = poutine.trace(model.guide).get_trace(batch_data, batch_mask)\n",
    "    with poutine.replay(trace=guide_trace):\n",
    "        shared = f.sample_shared()\n",
    "        with pyro.plate(\"components\", args.capacity):\n",
    "            group = f.sample_group(shared)\n",
    "\n",
    "    print(\"data mean = {:0.3g}, std = {:0.3g}\".format(col.float().mean(),\n",
    "                                                      col.float().std()))\n",
    "    print(\"\\n\".join(\"{} = {}\".format(key, value.data.cpu().numpy())\n",
    "                    for key, value in sorted(pyro.get_param_store().items())\n",
    "                    if key.startswith(\"auto_{}_\".format(name))))\n",
    "\n",
    "    pyplot.figure(figsize=(9, 8), dpi=300)\n",
    "    pyplot.hist(col.numpy(), alpha=0.3, label='data', bins=20, density=True)\n",
    "    datatype = type(f).__name__\n",
    "    if datatype in \"Real\":\n",
    "        x0 = col.min().item()\n",
    "        x1 = col.max().item()\n",
    "        X = torch.linspace(x0, x1, 100)\n",
    "    elif datatype == \"Boolean\":\n",
    "        X = torch.arange(2.)\n",
    "    elif datatype == \"Discrete\":\n",
    "        X = torch.arange(f.cardinality)\n",
    "    else:\n",
    "        raise ValueError(type(f))\n",
    "    for i in range(args.capacity):\n",
    "        d = f.value_dist(group, i)\n",
    "        Y = d.log_prob(X).exp().numpy()\n",
    "        if datatype == \"Real\":\n",
    "            pyplot.plot(X.numpy(), Y,\n",
    "                        label='loc={:0.2g}, scale={:0.2g}'.format(d.loc, d.scale))\n",
    "        else:\n",
    "            pyplot.plot(X.numpy(), Y)\n",
    "    pyplot.title(name)\n",
    "    pyplot.legend(loc='best')\n",
    "    pyplot.tight_layout()"
   ]
  },
  {
   "cell_type": "code",
   "execution_count": null,
   "metadata": {},
   "outputs": [],
   "source": [
    "FEATURE = \"b1\"\n",
    "plot_feature(FEATURE)\n",
    "pyplot.yscale('log')"
   ]
  },
  {
   "cell_type": "markdown",
   "metadata": {},
   "source": [
    "Now load the trained model."
   ]
  },
  {
   "cell_type": "code",
   "execution_count": null,
   "metadata": {},
   "outputs": [],
   "source": [
    "pyro.get_param_store().load(\"results/train/{}.treecatnuts.{}.model.pyro\"\n",
    "                            .format(args.dataset, args.capacity), map_location='cpu')"
   ]
  },
  {
   "cell_type": "code",
   "execution_count": null,
   "metadata": {},
   "outputs": [],
   "source": [
    "plot_feature(FEATURE)\n",
    "pyplot.yscale('log')\n",
    "# pyplot.ylim(1e-4, 1e2)"
   ]
  },
  {
   "cell_type": "code",
   "execution_count": null,
   "metadata": {},
   "outputs": [],
   "source": []
  },
  {
   "cell_type": "code",
   "execution_count": null,
   "metadata": {},
   "outputs": [],
   "source": []
  }
 ],
 "metadata": {
  "kernelspec": {
   "display_name": "Python 3",
   "language": "python",
   "name": "python3"
  },
  "language_info": {
   "codemirror_mode": {
    "name": "ipython",
    "version": 3
   },
   "file_extension": ".py",
   "mimetype": "text/x-python",
   "name": "python",
   "nbconvert_exporter": "python",
   "pygments_lexer": "ipython3",
   "version": "3.7.3"
  }
 },
 "nbformat": 4,
 "nbformat_minor": 2
}
