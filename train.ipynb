{
 "cells": [
  {
   "cell_type": "markdown",
   "metadata": {},
   "source": [
    "# Training"
   ]
  },
  {
   "cell_type": "code",
   "execution_count": null,
   "metadata": {},
   "outputs": [],
   "source": [
    "import os\n",
    "import glob\n",
    "from treecat_exp.util import load_object\n",
    "from matplotlib import pyplot\n",
    "import numpy as np\n",
    "import torch\n",
    "from pyro.contrib.tabular.treecat import print_tree\n",
    "%matplotlib inline\n",
    "%config InlineBackend.rc = {'figure.facecolor': (1, 1, 1, 1)}\n",
    "# %config InlineBackend.figure_format = 'svg'"
   ]
  },
  {
   "cell_type": "markdown",
   "metadata": {},
   "source": [
    "To perform training, run `python train.py`"
   ]
  },
  {
   "cell_type": "code",
   "execution_count": null,
   "metadata": {},
   "outputs": [],
   "source": [
    "DATASET = 'housing.treecat.8.nuts'\n",
    "meta = load_object('results/train/{}.meta.pkl'.format(DATASET))\n",
    "model = load_object('results/train/{}.model.pkl'.format(DATASET))\n",
    "print(list(meta.keys()))\n",
    "args = meta['args']\n",
    "stepsizes = meta['stepsizes']"
   ]
  },
  {
   "cell_type": "code",
   "execution_count": null,
   "metadata": {
    "scrolled": false
   },
   "outputs": [],
   "source": [
    "pyplot.figure(figsize=(9, 6), dpi=300)\n",
    "pyplot.plot(meta['losses'], label='loss')\n",
    "pyplot.ylabel('ELBO Loss  (nats / cell)')\n",
    "pyplot.xlabel('SVI Step')\n",
    "asymptote = np.mean(meta['losses'][int(0.9 * len(meta['losses'])):])\n",
    "pyplot.axhline(asymptote, color='orange', linestyle='--', lw=1.5,\n",
    "               label='{:0.3g}'.format(asymptote))\n",
    "# pyplot.yscale('log')\n",
    "pyplot.xlim(0, len(meta[\"losses\"]))\n",
    "pyplot.title('Training on {} data (m={}, lr={}, ar={}, b={})'.format(\n",
    "             args.dataset, args.capacity, args.learning_rate,\n",
    "             args.annealing_rate, args.batch_size))\n",
    "pyplot.legend(loc='best')\n",
    "pyplot.tight_layout()"
   ]
  },
  {
   "cell_type": "code",
   "execution_count": null,
   "metadata": {},
   "outputs": [],
   "source": [
    "pyplot.figure(figsize=(9, 4), dpi=300)\n",
    "pyplot.plot(meta['memsizes'])\n",
    "pyplot.ylabel('Memory size (# rows)')\n",
    "pyplot.xlabel('SVI Step')\n",
    "pyplot.xlim(0, len(meta[\"memsizes\"]))\n",
    "# pyplot.ylim(0, None)\n",
    "pyplot.yscale('log')\n",
    "pyplot.title('Annealing schedule')\n",
    "pyplot.tight_layout()"
   ]
  },
  {
   "cell_type": "code",
   "execution_count": null,
   "metadata": {},
   "outputs": [],
   "source": [
    "def downsample(series, factor):\n",
    "    series = torch.tensor(series)\n",
    "    series = series[:len(series) // factor * factor]\n",
    "    return series.reshape(-1, factor).mean(-1).numpy()"
   ]
  },
  {
   "cell_type": "code",
   "execution_count": null,
   "metadata": {
    "scrolled": false
   },
   "outputs": [],
   "source": [
    "factor = (1 + len(stepsizes) // 100)\n",
    "pyplot.figure(figsize=(9, 6), dpi=300)\n",
    "for key in stepsizes[-1]:\n",
    "    series = downsample([s.get(key, 0) for s in stepsizes], factor)\n",
    "    X = range(0, len(series) * factor, factor)\n",
    "    if key == 'tree':\n",
    "        pyplot.plot(X, series, 'k--', label=\"tree\", lw=1)\n",
    "    else:\n",
    "        if \"_shared_\" in key:\n",
    "            style = dict(lw=0.5)\n",
    "        else:\n",
    "            style = dict(lw=1.0, linestyle='--')\n",
    "        pyplot.plot(X, series, alpha=0.5, **style)\n",
    "pyplot.plot([], color='gray', lw=1.0, linestyle='--', label='group')\n",
    "pyplot.plot([], color='gray', lw=0.5, label='shared')\n",
    "pyplot.ylabel('Stepsize')\n",
    "pyplot.xlabel('Training Step')\n",
    "pyplot.xlim(0, len(meta[\"losses\"]))\n",
    "pyplot.ylim(1e-4, 1e1)\n",
    "pyplot.yscale('log')\n",
    "pyplot.title('Parameter steps on {} data (m={}, lr={}, ar={}, b={})'.format(\n",
    "             args.dataset, args.capacity, args.learning_rate,\n",
    "             args.annealing_rate, args.batch_size))\n",
    "pyplot.legend(loc='best')\n",
    "pyplot.tight_layout()"
   ]
  },
  {
   "cell_type": "code",
   "execution_count": null,
   "metadata": {
    "scrolled": false
   },
   "outputs": [],
   "source": [
    "from IPython.display import HTML\n",
    "tree = print_tree(model.edges, [f.name for f in model.features])\n",
    "HTML('<pre><p style=\"font-size: 10pt; line-height: 11pt;\">{}</p></pre>'.format(tree))"
   ]
  },
  {
   "cell_type": "markdown",
   "metadata": {},
   "source": [
    "## Comparison"
   ]
  },
  {
   "cell_type": "code",
   "execution_count": null,
   "metadata": {},
   "outputs": [],
   "source": [
    "PATTERN = 'housing.treecat.*'\n",
    "paths = glob.glob('results/train/{}.meta.pkl'.format(PATTERN))\n",
    "datasets = [(path[:-len('meta.pkl')].replace('.', ' '), load_object(path))\n",
    "            for path in paths]\n",
    "datasets.sort(key=lambda path_meta: path_meta[1][\"losses\"][-1], reverse=True)\n",
    "assert datasets\n",
    "\n",
    "pyplot.figure(figsize=(9, 6), dpi=400)\n",
    "for name, meta in datasets:\n",
    "    args = meta['args']\n",
    "    pyplot.plot(meta['losses'], label=os.path.basename(name), alpha=0.6)\n",
    "    pyplot.ylabel('ELBO Loss  (nats / cell)')\n",
    "    pyplot.xlabel('Training Step')\n",
    "# pyplot.yscale('log')\n",
    "pyplot.title('Training')\n",
    "pyplot.legend(loc='best')\n",
    "pyplot.tight_layout()"
   ]
  },
  {
   "cell_type": "code",
   "execution_count": null,
   "metadata": {},
   "outputs": [],
   "source": []
  }
 ],
 "metadata": {
  "kernelspec": {
   "display_name": "Python 3",
   "language": "python",
   "name": "python3"
  },
  "language_info": {
   "codemirror_mode": {
    "name": "ipython",
    "version": 3
   },
   "file_extension": ".py",
   "mimetype": "text/x-python",
   "name": "python",
   "nbconvert_exporter": "python",
   "pygments_lexer": "ipython3",
   "version": "3.7.3"
  }
 },
 "nbformat": 4,
 "nbformat_minor": 2
}
