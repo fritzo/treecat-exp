{
 "cells": [
  {
   "cell_type": "markdown",
   "metadata": {},
   "source": [
    "# Training"
   ]
  },
  {
   "cell_type": "code",
   "execution_count": null,
   "metadata": {},
   "outputs": [],
   "source": [
    "from six.moves import cPickle as pickle\n",
    "from matplotlib import pyplot\n",
    "import numpy as np\n",
    "import torch\n",
    "%matplotlib inline\n",
    "%config InlineBackend.figure_format = 'svg'\n",
    "%config InlineBackend.rc = {'figure.facecolor': (1, 1, 1, 1)}"
   ]
  },
  {
   "cell_type": "markdown",
   "metadata": {},
   "source": [
    "To perform training, run `python train.py`"
   ]
  },
  {
   "cell_type": "code",
   "execution_count": null,
   "metadata": {},
   "outputs": [],
   "source": [
    "DATASET = 'news'\n",
    "with open('results/train/{}.meta.pkl'.format(DATASET), 'rb') as f:\n",
    "    meta = pickle.load(f)\n",
    "print(list(meta.keys()))\n",
    "args = meta['args']\n",
    "stepsizes = meta['stepsizes']"
   ]
  },
  {
   "cell_type": "code",
   "execution_count": null,
   "metadata": {
    "scrolled": false
   },
   "outputs": [],
   "source": [
    "pyplot.figure(figsize=(9, 6))\n",
    "pyplot.plot(meta['losses'], label='loss')\n",
    "pyplot.ylabel('ELBO Loss  (nats / cell)')\n",
    "pyplot.xlabel('SVI Step')\n",
    "asymptote = np.mean(meta['losses'][int(0.9 * len(meta['losses'])):])\n",
    "pyplot.axhline(asymptote, color='orange', linestyle='--', lw=1.5,\n",
    "               label='{:0.3g}'.format(asymptote))\n",
    "pyplot.yscale('log')\n",
    "pyplot.xlim(0, len(meta[\"losses\"]))\n",
    "pyplot.title('Training on {} data (lr={}, ar={}, b={})'.format(\n",
    "             args.dataset, args.learning_rate, args.annealing_rate, args.batch_size))\n",
    "pyplot.legend(loc='best')\n",
    "pyplot.tight_layout()"
   ]
  },
  {
   "cell_type": "code",
   "execution_count": null,
   "metadata": {},
   "outputs": [],
   "source": [
    "def downsample(series, factor):\n",
    "    series = torch.tensor(series)\n",
    "    series = series[:len(series) // factor * factor]\n",
    "    return series.reshape(-1, factor).mean(-1).numpy()"
   ]
  },
  {
   "cell_type": "code",
   "execution_count": null,
   "metadata": {
    "scrolled": false
   },
   "outputs": [],
   "source": [
    "factor = (1 + len(stepsizes) // 100)\n",
    "pyplot.figure(figsize=(9, 6))\n",
    "for key in stepsizes[-1]:\n",
    "    series = downsample([s.get(key, 0) for s in stepsizes], factor)\n",
    "    X = range(0, len(series) * factor, factor)\n",
    "    if key == 'tree':\n",
    "        pyplot.plot(X, series, 'k--', label=\"tree\", lw=1)\n",
    "    else:\n",
    "        pyplot.plot(X, series, alpha=0.5, lw=0.5)\n",
    "pyplot.ylabel('Stepsize')\n",
    "pyplot.xlabel('SVI Step')\n",
    "pyplot.xlim(0, len(meta[\"losses\"]))\n",
    "pyplot.ylim(1e-3, None)\n",
    "pyplot.yscale('log')\n",
    "pyplot.title('Parameter steps on {} data (lr={}, ar={}, b={})'.format(\n",
    "             args.dataset, args.learning_rate, args.annealing_rate, args.batch_size))\n",
    "pyplot.legend(loc='best')\n",
    "pyplot.tight_layout()"
   ]
  },
  {
   "cell_type": "code",
   "execution_count": null,
   "metadata": {},
   "outputs": [],
   "source": []
  }
 ],
 "metadata": {
  "kernelspec": {
   "display_name": "Python 3",
   "language": "python",
   "name": "python3"
  },
  "language_info": {
   "codemirror_mode": {
    "name": "ipython",
    "version": 3
   },
   "file_extension": ".py",
   "mimetype": "text/x-python",
   "name": "python",
   "nbconvert_exporter": "python",
   "pygments_lexer": "ipython3",
   "version": "3.7.2"
  }
 },
 "nbformat": 4,
 "nbformat_minor": 2
}
